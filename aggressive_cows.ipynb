{
 "cells": [
  {
   "cell_type": "markdown",
   "metadata": {},
   "source": [
    "# Aggressive Cows\n",
    "\n",
    "### Problema de SPOJ que utiliza un _greedy algorithm_\n",
    "\n",
    "link: https://www.spoj.com/problems/AGGRCOW/\n",
    "\n",
    "**Enunciado:**\n",
    "\n",
    "El granjero John construyó un establo con $ N $ $ (2 \\leq N \\leq 100,000) $ casetas sobre una línea recta en las posiciones $ x_1,...,x_N $ $ (0 \\leq x_i \\leq 1,000,000,000) $.\n",
    "\n",
    "Sus $ C $ $ (2 \\leq C \\leq N) $ vacas no están contentas con el establo y se han vuelto agresivas entre ellas en cuanto se les coloca en una caseta. Para evitar que las vacas se hagan daño las unas a las otras, John quiere acomodarlas de manera que la mínima distancia entre ellas sea lo más grande posible. ¿Cuál es la máxima distancia mínima?"
   ]
  },
  {
   "cell_type": "markdown",
   "metadata": {},
   "source": [
    "**Análisis:**\n",
    "\n",
    "Supongamos que tenemos una distancia mínima fija, que llamaremos $ MIN $ y queremos calcular la máxima cantidad de vacas que podemos colocar tal que la distancia entre ellas no sea menor que $ MIN $. Esto es fácil de hacer: ponemos una vaca en la primera caseta y luego una más en la caseta más cercana que no esté a una distancia menor que $ MIN $ y así sucesivamente. El número de vacas que podemos acomodar de esta forma es inversamente proporcional a $ MIN $.\n",
    "\n",
    "Ahora, lo que nos pide el problema es la máxima $ MIN $ tal que podamos acomodar la $ C $ vacas que nos dan. El predicado para la implementación de la búsqueda binaria es:\n",
    "\n",
    "_¿Podemos acomodar la $ C $ vacas en el establo de manera que la distancia entre ellas nunca sea menor que $ x $?_\n",
    "\n",
    "Si la respuesta es _no_ para una cierta $ x $, entonces será _no_ para cualquier otro número mayor que $ x $. La solución al problema es encontrar la última de las $ x $ que devuelven un _sí_."
   ]
  },
  {
   "cell_type": "markdown",
   "metadata": {},
   "source": [
    "**Implementación:**"
   ]
  },
  {
   "cell_type": "code",
   "execution_count": 1,
   "metadata": {},
   "outputs": [],
   "source": [
    "import numpy as np"
   ]
  },
  {
   "cell_type": "code",
   "execution_count": 74,
   "metadata": {},
   "outputs": [],
   "source": [
    "def get_min_dist(locations, cows):\n",
    "    locations.sort()\n",
    "    n = len(locations)\n",
    "    lo = locations[1] - locations[0] # Distancia mínima entre casetas\n",
    "    hi = locations[n - 1] - locations[0] # Distancia máxima entre casetas\n",
    "    print(lo, hi)\n",
    "    \n",
    "    while lo + 1 < hi:\n",
    "        x = lo + (hi - lo) // 2\n",
    "        print(x)\n",
    "        alloc_cows = 1\n",
    "        cumulative_dist = 0\n",
    "        \n",
    "        for i in range(n - 1):\n",
    "            current_dist = locations[i + 1] - locations[i]\n",
    "            \n",
    "            if current_dist + cumulative_dist >= x:\n",
    "                # Puedo poner vaca\n",
    "                alloc_cows += 1\n",
    "                cumulative_dist = 0\n",
    "            else:\n",
    "                cumulative_dist = current_dist\n",
    "\n",
    "        if alloc_cows >= cows:\n",
    "            lo = x\n",
    "        else:\n",
    "            hi = x - 1\n",
    "            \n",
    "        print(lo, hi)\n",
    "\n",
    "    return hi"
   ]
  },
  {
   "cell_type": "code",
   "execution_count": 75,
   "metadata": {},
   "outputs": [
    {
     "name": "stdout",
     "output_type": "stream",
     "text": [
      "1 8\n",
      "4\n",
      "1 3\n",
      "2\n",
      "2 3\n",
      "3\n"
     ]
    }
   ],
   "source": [
    "# Prueba con el ejemplo de SPOJ\n",
    "a = [1, 2, 8, 4, 9]\n",
    "C = 3\n",
    "\n",
    "print(get_min_dist(a, C))"
   ]
  },
  {
   "cell_type": "code",
   "execution_count": 76,
   "metadata": {},
   "outputs": [
    {
     "name": "stdout",
     "output_type": "stream",
     "text": [
      "3 31\n",
      "17\n",
      "3 16\n",
      "9\n",
      "3 8\n",
      "5\n",
      "3 4\n",
      "4\n"
     ]
    }
   ],
   "source": [
    "a = [4, 7, 8, 9, 15, 16, 23, 25, 31, 35]\n",
    "C = 5\n",
    "\n",
    "print(get_min_dist(a, C))"
   ]
  },
  {
   "cell_type": "code",
   "execution_count": null,
   "metadata": {},
   "outputs": [],
   "source": []
  }
 ],
 "metadata": {
  "kernelspec": {
   "display_name": "Python 3",
   "language": "python",
   "name": "python3"
  },
  "language_info": {
   "codemirror_mode": {
    "name": "ipython",
    "version": 3
   },
   "file_extension": ".py",
   "mimetype": "text/x-python",
   "name": "python",
   "nbconvert_exporter": "python",
   "pygments_lexer": "ipython3",
   "version": "3.7.0"
  }
 },
 "nbformat": 4,
 "nbformat_minor": 2
}
