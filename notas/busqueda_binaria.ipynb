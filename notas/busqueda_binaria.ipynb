{
 "cells": [
  {
   "cell_type": "markdown",
   "metadata": {},
   "source": [
    "# Búsqueda binaria\n",
    "\n",
    "Primero, algunas definiciones.\n",
    "\n",
    "__*Espacio de búsqueda $S$.*__ Es el conjunto de los candidatos a solución del problema.\n",
    "\n",
    "__*Predicado $P(S)$.*__ Función que asigna un booleano a cada elemento del espacio de búsqueda.\n",
    "\n",
    "#### Fuente: Tutorial de TopCoder"
   ]
  },
  {
   "cell_type": "code",
   "execution_count": null,
   "metadata": {},
   "outputs": [],
   "source": []
  },
  {
   "cell_type": "code",
   "execution_count": null,
   "metadata": {},
   "outputs": [],
   "source": []
  }
 ],
 "metadata": {
  "kernelspec": {
   "display_name": "Python 3",
   "language": "python",
   "name": "python3"
  },
  "language_info": {
   "codemirror_mode": {
    "name": "ipython",
    "version": 3
   },
   "file_extension": ".py",
   "mimetype": "text/x-python",
   "name": "python",
   "nbconvert_exporter": "python",
   "pygments_lexer": "ipython3",
   "version": "3.7.0"
  }
 },
 "nbformat": 4,
 "nbformat_minor": 2
}
