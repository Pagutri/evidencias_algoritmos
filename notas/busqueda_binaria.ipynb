{
 "cells": [
  {
   "cell_type": "markdown",
   "metadata": {},
   "source": [
    "# Búsqueda binaria\n",
    "\n",
    "Primero, algunas definiciones.\n",
    "\n",
    "__*Espacio de búsqueda $S$.*__ Es el conjunto de los candidatos a solución del problema.\n",
    "\n",
    "__*Predicado $P(S)$.*__ Función que asigna un booleano a cada elemento del espacio de búsqueda. Usamos el predicado para verificar si un candidato a solución no viola ninguna restricción ddel problema.\n",
    "\n",
    "__*Teorema central.*__ La búsqueda binaria puede ser utilizada en un problema $ \\iff \\forall x \\epsilon S(P(x) \\implies P(y) \\forall y > x) $\n",
    "\n",
    "Lo que quiere decir el teorema central es que, para poder usar la búsqueda binaria, evaluar $P$ en todo $S$ debe devolver una secuencia de 'No's seguida de una secuencia de 'Sí's. El espacio de solución, entonces, de cumplir con algún tipo de orden. Esto es fácil cuando $S$ es solo números, pero en ocasiones es algo más complicado.\n",
    "\n",
    "Una vez que te aseguras de que tu problema cumple las condiciones del teorema, la *búsqueda binaria* encontrará la mínima $x$ para la cual $P(x) = Sí$.\n",
    "\n",
    "Bajo la observación de que $ P(x) \\implies P(y) \\forall y > x $ es equivalente a $ \\neg P(x) \\implies \\neg P(y) \\forall y < x $, podemos adaptar la búsqueda binaria para problemas en los que evaluar $P$ en todo $S$ devuelve una secuencia de 'Sí's seguida de una secuencia de 'No's.\n",
    "\n",
    "#### Fuente: Tutorial de TopCoder"
   ]
  }
 ],
 "metadata": {
  "kernelspec": {
   "display_name": "Python 3",
   "language": "python",
   "name": "python3"
  },
  "language_info": {
   "codemirror_mode": {
    "name": "ipython",
    "version": 3
   },
   "file_extension": ".py",
   "mimetype": "text/x-python",
   "name": "python",
   "nbconvert_exporter": "python",
   "pygments_lexer": "ipython3",
   "version": "3.6.6"
  }
 },
 "nbformat": 4,
 "nbformat_minor": 2
}
