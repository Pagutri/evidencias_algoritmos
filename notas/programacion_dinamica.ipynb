{
 "cells": [
  {
   "cell_type": "markdown",
   "metadata": {},
   "source": [
    "# Programación Dinámica\n",
    "\n",
    "La programación dinámica suele utilizarse en problemas de optimización. Es parecida al enfoque de *divide-and-conquer* en el sentido de que ambos solucionan un problema al dividirlo sucesivamente en subproblemas más pequeños y atacar éstos primero. La diferencia es que *divide-and-conquer* hace un fuerte uso de la recursividad, mientras que la programación dinámica se encarga de problemas en los que una solución recursiva vuelve demasiado lenta la ejecución del programa.\n",
    "\n",
    "Para que la programación dinámica sea útil en un problema concreto, éste debe cumplir con dos características:\n",
    "\n",
    "__a). Subestructura óptima.__ Que una solución óptima del problema contenga soluciones óptimas a subproblemas.\n",
    "\n",
    "__b). Traslape de subproblemas.__ Que un algoritmo recursivo que solucione el problema revisite los mismos subproblemas una y otra vez.\n",
    "\n",
    "Suelen seguirse cuatro pasos para la implementación de un algoritmo con este enfoque:\n",
    "\n",
    "__1.__ Caracterizar la estructura de una solución óptima.\n",
    "\n",
    "__2.__ Definir una fórmula recursiva para obtener el valor de una solución óptima.\n",
    "\n",
    "__3.__ Calcular ese valor, cambiando recursividad por gasto de memoria.\n",
    "\n",
    "__4.__ Reconstruir la solución óptima.\n",
    "\n",
    "Aclaremos un poco los pasos 3 y 4 con un ejemplo. La multiplicación de matrices es asociativa. El número de multiplicaciones de escalares que se tienen que hacer al multiplicar $n$ matrices depende del orden en que se multipliquen las matrices. Por ejemplo, $ABC = (AB)C = A(BC)$ pero, si las matrices no son cuadradas, cada 'parentesisación' involucra un número distinto de multiplicaciones de escalares, pues éste depende de las dimensiones de las matrices. Nuestro problema es encontrar la _parentesisación_ que minimice este número.\n",
    "\n",
    "Una solución óptima a este problema es la parentesisación correspondiente. El valor óptimo es el número mínimo de multiplicaciones totales y puede obtenerse a partir de más de una parentesisación. En eso consistiría el paso 4, en reconstruir una parentesisación que nos de el valor óptimo calculado en el paso 3.\n",
    "\n",
    "Lo de cambiar recursividad por gasto de memoria es porque, como hay traslape de subproblemas, es mejor calcular la solución a un subproblema una sola vez y guardarla en la memoria para consultarla cada vez que la necesitemos, en lugar de recalcularla muchas veces durante la ejecución del algoritmo recursivo.\n",
    "\n",
    "A veces el paso 4 no es requerido en el planteamiento del problema.\n",
    "\n",
    "#### Fuente: el CLRS de *Introducción a los algoritmos* "
   ]
  }
 ],
 "metadata": {
  "kernelspec": {
   "display_name": "Python 3",
   "language": "python",
   "name": "python3"
  },
  "language_info": {
   "codemirror_mode": {
    "name": "ipython",
    "version": 3
   },
   "file_extension": ".py",
   "mimetype": "text/x-python",
   "name": "python",
   "nbconvert_exporter": "python",
   "pygments_lexer": "ipython3",
   "version": "3.6.6"
  }
 },
 "nbformat": 4,
 "nbformat_minor": 2
}
