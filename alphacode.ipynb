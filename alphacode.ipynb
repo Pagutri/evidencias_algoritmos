{
 "cells": [
  {
   "cell_type": "markdown",
   "metadata": {},
   "source": [
    "# Alphacode\n",
    "\n",
    "## Problema de SPOJ que utiliza _programación dinámica_\n",
    "\n",
    "link: https://www.spoj.com/problems/ACODE/"
   ]
  },
  {
   "cell_type": "markdown",
   "metadata": {},
   "source": [
    "#### Implementación:"
   ]
  },
  {
   "cell_type": "code",
   "execution_count": 3,
   "metadata": {},
   "outputs": [],
   "source": [
    "import numpy as np"
   ]
  },
  {
   "cell_type": "code",
   "execution_count": 38,
   "metadata": {},
   "outputs": [],
   "source": [
    "# Esta es la función que encuentra el número de decodificaciones posibles\n",
    "# Asume que encryption es tipo string\n",
    "\n",
    "def num_decod(encryption):\n",
    "    m = len(encryption)\n",
    "    N = []\n",
    "    \n",
    "    if m == 1 or (m == 2 and int(encryption[0] + encryption[1]) > 26):\n",
    "        return 1\n",
    "    elif m == 2 and int(encryption[0] + encryption[1]) <= 26:\n",
    "        return 2\n",
    "    else:\n",
    "        N.append(1)\n",
    "        \n",
    "        if int(encryption[0] + encryption[1]) > 26:\n",
    "            N.append(1)\n",
    "        else:\n",
    "            N.append(2)\n",
    "        \n",
    "        for i in range(2, m):\n",
    "            if int(encryption[i - 1] + encryption[i]) > 26:\n",
    "                N.append(N[i - 1])\n",
    "            else:\n",
    "                N.append(N[i - 1] + N[i - 2])\n",
    "    \n",
    "    return N[m - 1]"
   ]
  },
  {
   "cell_type": "code",
   "execution_count": 37,
   "metadata": {},
   "outputs": [
    {
     "name": "stdout",
     "output_type": "stream",
     "text": [
      "6 89 1\n"
     ]
    }
   ],
   "source": [
    "a = \"25114\"\n",
    "b = \"1111111111\"\n",
    "c = \"3333333333\"\n",
    "\n",
    "print(num_decod(a), num_decod(b), num_decod(c))"
   ]
  },
  {
   "cell_type": "code",
   "execution_count": null,
   "metadata": {},
   "outputs": [],
   "source": []
  }
 ],
 "metadata": {
  "kernelspec": {
   "display_name": "Python 3",
   "language": "python",
   "name": "python3"
  },
  "language_info": {
   "codemirror_mode": {
    "name": "ipython",
    "version": 3
   },
   "file_extension": ".py",
   "mimetype": "text/x-python",
   "name": "python",
   "nbconvert_exporter": "python",
   "pygments_lexer": "ipython3",
   "version": "3.7.0"
  }
 },
 "nbformat": 4,
 "nbformat_minor": 2
}
