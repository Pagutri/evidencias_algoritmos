{
 "cells": [
  {
   "cell_type": "markdown",
   "metadata": {},
   "source": [
    "# Alphacode\n",
    "\n",
    "## Problema de SPOJ que utiliza _programación dinámica_\n",
    "\n",
    "link: https://www.spoj.com/problems/ACODE/\n",
    "\n",
    "#### Enunciado:\n",
    "\n",
    "Alice y Bob necesitan enviarse mensajes secretos entre ellos y están discutiendo maneras de codificar sus mensajes.\n",
    "\n",
    "    Alice: “Hagámoslo simple: Asignemos el 1 a la 'A', el 2 a la 'B', y así sucesivamente hasta llegar a 'Z', que sería el 26.”\n",
    "\n",
    "    Bob: “Esa es una mala idea, Alice. Supón que yo te envío la palabra ‘BEAN’ codificada como 25114. ¡Eso se puede decodificar de muchas maneras!”\n",
    "\n",
    "    Alice: “Por supuesto, pero ¿qué palabras obtendrías? Aparte de ‘BEAN’, te saldrían ‘BEAAD’, ‘YAAD’, ‘YAN’, ‘YKD’ y ‘BEKD’. Supongo que podrías darte cuenta de cuál es la correcta. De cualquier forma, ¿por qué me enviarías la palabra 'BEAN'?”\n",
    "\n",
    "    Bob: “Está bien, tal vez ese sea un mal ejemplo, pero te apuesto que si tienes una cadena tamaño 5000 habría montones de decodificaciones diferentes y entre todas ellas podrías encontrar al menos dos que tendrían sentido.”\n",
    "\n",
    "    Alice: “¿Qué tanto son 'montones'?”\n",
    "\n",
    "    Bob: “¡Chorrocientas!”\n",
    "\n",
    "Por alguna razón, Alice no está convencida, así que quiere un programa que determine cuantas decodificaciones diferentes puede haber para una codificación dada utilizando su método."
   ]
  },
  {
   "cell_type": "markdown",
   "metadata": {},
   "source": [
    "#### Análisis:\n",
    "\n",
    "Un mensaje formado por solo dos dígitos puede decodificarse de dos manera, si el número que forma no pasa de 26, o de una manera, en otro caso.\n",
    "\n",
    "El problema tiene __subestructura óptima__, porque el número de decodificaciones $N$ de una cadena es igual al $N$ de la cadena que queda si a la original le quitas uno o dos dígitos, según el caso.\n",
    "\n",
    "El __traslape de subproblemas__ se presenta porque, si los dos dígitos que cortamos de la cadena original tienen dos posibles decodificaciones, entonces tendríamos que calcular el $N$ de la cadena que queda al cortar un solo dígito y sumarle el $N$ de la cadena que queda al cortar los dos dígitos. Ambas cadenas serán casi idénticas, por lo que el cálculo de ambas $N$s resultará repetitivo.\n",
    "\n",
    "La fórmula recursiva para $N(i)$, donde $i$ es el índice del último dígito de la subcadena tomada de $C = d_0d_1...d_m$, es:\n",
    "\n",
    "$$\n",
    "N(i) = \\left\\{\n",
    "        \\begin{array}{ll}\n",
    "            1 & i = 0 \\or (i = 1 \\and d_0d_1 > 26) \\\\\n",
    "            2 & i = 1 \\and d_0d_1 \\leq 26 \\\\\n",
    "            N(i - 1) & d_{i - 1}d_j > 26 \\\\\n",
    "            N(i - 1) + N(i - 2) & d_{i - 1}d_j \\leq 26 \\\\\n",
    "        \\end{array}\n",
    "    \\right.\n",
    "$$\n",
    "\n",
    "La implementación elimina la parte recursiva y, en su lugar, va guardando en la memoria los valores de $N$ que encuentra."
   ]
  },
  {
   "cell_type": "markdown",
   "metadata": {},
   "source": [
    "#### Implementación:"
   ]
  },
  {
   "cell_type": "code",
   "execution_count": 38,
   "metadata": {},
   "outputs": [],
   "source": [
    "# Esta es la función que encuentra el número de decodificaciones posibles\n",
    "# Asume que encryption es tipo string\n",
    "\n",
    "def num_decod(encryption):\n",
    "    m = len(encryption)\n",
    "    N = []\n",
    "    \n",
    "    if m == 1 or (m == 2 and int(encryption[0] + encryption[1]) > 26):\n",
    "        return 1\n",
    "    elif m == 2 and int(encryption[0] + encryption[1]) <= 26:\n",
    "        return 2\n",
    "    else:\n",
    "        N.append(1)\n",
    "        \n",
    "        if int(encryption[0] + encryption[1]) > 26:\n",
    "            N.append(1)\n",
    "        else:\n",
    "            N.append(2)\n",
    "        \n",
    "        for i in range(2, m):\n",
    "            if int(encryption[i - 1] + encryption[i]) > 26:\n",
    "                N.append(N[i - 1])\n",
    "            else:\n",
    "                N.append(N[i - 1] + N[i - 2])\n",
    "    \n",
    "    return N[m - 1]"
   ]
  },
  {
   "cell_type": "code",
   "execution_count": 39,
   "metadata": {},
   "outputs": [
    {
     "name": "stdout",
     "output_type": "stream",
     "text": [
      "6 89 1\n"
     ]
    }
   ],
   "source": [
    "# Ejemplo de la página\n",
    "\n",
    "a = \"25114\"\n",
    "b = \"1111111111\"\n",
    "c = \"3333333333\"\n",
    "\n",
    "print(num_decod(a), num_decod(b), num_decod(c))"
   ]
  }
 ],
 "metadata": {
  "kernelspec": {
   "display_name": "Python 3",
   "language": "python",
   "name": "python3"
  },
  "language_info": {
   "codemirror_mode": {
    "name": "ipython",
    "version": 3
   },
   "file_extension": ".py",
   "mimetype": "text/x-python",
   "name": "python",
   "nbconvert_exporter": "python",
   "pygments_lexer": "ipython3",
   "version": "3.7.0"
  }
 },
 "nbformat": 4,
 "nbformat_minor": 2
}
