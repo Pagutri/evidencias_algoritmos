{
 "cells": [
  {
   "cell_type": "markdown",
   "metadata": {},
   "source": [
    "# Alphacode\n",
    "\n",
    "## Problema de SPOJ que utiliza _programación dinámica_\n",
    "\n",
    "link: https://www.spoj.com/problems/ACODE/"
   ]
  },
  {
   "cell_type": "markdown",
   "metadata": {},
   "source": [
    "#### Implementación:"
   ]
  },
  {
   "cell_type": "code",
   "execution_count": 3,
   "metadata": {},
   "outputs": [],
   "source": [
    "import numpy as np"
   ]
  },
  {
   "cell_type": "code",
   "execution_count": 24,
   "metadata": {},
   "outputs": [],
   "source": [
    "# Esta es la función que encuentra el número de decodificaciones posibles\n",
    "\n",
    "def num_decod(encryption):\n",
    "    m = len(encryption)\n",
    "    N = []\n",
    "    \n",
    "    if m == 1 or (m == 2 and encryption[0] * 10 + encryption[1] > 26):\n",
    "        return 1\n",
    "    elif m == 2 and encryption[i - 1] * 10 + encryption[i] <= 26:\n",
    "        return 2\n",
    "    else:\n",
    "        N.append(1)\n",
    "        \n",
    "        if encryption[0] * 10 + encryption[1] > 26:\n",
    "            N.append(1)\n",
    "        else:\n",
    "            N.append(2)\n",
    "        \n",
    "        for i in range(2, m):\n",
    "            if encryption[i - 1] * 10 + encryption[i] > 26:\n",
    "                N.append(N[i - 1])\n",
    "            else:\n",
    "                N.append(N[i - 1] + N[i - 2])\n",
    "    \n",
    "    return N[m - 1]"
   ]
  }
 ],
 "metadata": {
  "kernelspec": {
   "display_name": "Python 3",
   "language": "python",
   "name": "python3"
  },
  "language_info": {
   "codemirror_mode": {
    "name": "ipython",
    "version": 3
   },
   "file_extension": ".py",
   "mimetype": "text/x-python",
   "name": "python",
   "nbconvert_exporter": "python",
   "pygments_lexer": "ipython3",
   "version": "3.7.0"
  }
 },
 "nbformat": 4,
 "nbformat_minor": 2
}
